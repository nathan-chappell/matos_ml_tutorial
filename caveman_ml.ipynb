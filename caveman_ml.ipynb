{
 "cells": [
  {
   "cell_type": "markdown",
   "metadata": {},
   "source": [
    "# Caveman ML"
   ]
  },
  {
   "cell_type": "code",
   "execution_count": 195,
   "metadata": {},
   "outputs": [],
   "source": [
    "import typing as T\n",
    "\n",
    "import numpy as np\n",
    "import pandas as pd\n",
    "import matplotlib.pyplot as plt\n",
    "\n",
    "rng = np.random.default_rng()\n",
    "\n",
    "np.set_printoptions(\n",
    "    linewidth=180,\n",
    "    edgeitems=14,\n",
    "    formatter={\n",
    "        \"float\": lambda x: f\"{x:7.3f}\",\n",
    "        \"int\": lambda x: f\"{x:3}\",\n",
    "    },\n",
    ")\n"
   ]
  },
  {
   "cell_type": "markdown",
   "metadata": {},
   "source": [
    "## Data Import"
   ]
  },
  {
   "cell_type": "code",
   "execution_count": 196,
   "metadata": {},
   "outputs": [
    {
     "data": {
      "text/html": [
       "<div>\n",
       "<style scoped>\n",
       "    .dataframe tbody tr th:only-of-type {\n",
       "        vertical-align: middle;\n",
       "    }\n",
       "\n",
       "    .dataframe tbody tr th {\n",
       "        vertical-align: top;\n",
       "    }\n",
       "\n",
       "    .dataframe thead th {\n",
       "        text-align: right;\n",
       "    }\n",
       "</style>\n",
       "<table border=\"1\" class=\"dataframe\">\n",
       "  <thead>\n",
       "    <tr style=\"text-align: right;\">\n",
       "      <th></th>\n",
       "      <th>label</th>\n",
       "      <th>1x1</th>\n",
       "      <th>1x2</th>\n",
       "      <th>1x3</th>\n",
       "      <th>1x4</th>\n",
       "      <th>1x5</th>\n",
       "      <th>1x6</th>\n",
       "      <th>1x7</th>\n",
       "      <th>1x8</th>\n",
       "      <th>1x9</th>\n",
       "      <th>...</th>\n",
       "      <th>28x19</th>\n",
       "      <th>28x20</th>\n",
       "      <th>28x21</th>\n",
       "      <th>28x22</th>\n",
       "      <th>28x23</th>\n",
       "      <th>28x24</th>\n",
       "      <th>28x25</th>\n",
       "      <th>28x26</th>\n",
       "      <th>28x27</th>\n",
       "      <th>28x28</th>\n",
       "    </tr>\n",
       "  </thead>\n",
       "  <tbody>\n",
       "    <tr>\n",
       "      <th>0</th>\n",
       "      <td>5</td>\n",
       "      <td>0</td>\n",
       "      <td>0</td>\n",
       "      <td>0</td>\n",
       "      <td>0</td>\n",
       "      <td>0</td>\n",
       "      <td>0</td>\n",
       "      <td>0</td>\n",
       "      <td>0</td>\n",
       "      <td>0</td>\n",
       "      <td>...</td>\n",
       "      <td>0</td>\n",
       "      <td>0</td>\n",
       "      <td>0</td>\n",
       "      <td>0</td>\n",
       "      <td>0</td>\n",
       "      <td>0</td>\n",
       "      <td>0</td>\n",
       "      <td>0</td>\n",
       "      <td>0</td>\n",
       "      <td>0</td>\n",
       "    </tr>\n",
       "    <tr>\n",
       "      <th>1</th>\n",
       "      <td>0</td>\n",
       "      <td>0</td>\n",
       "      <td>0</td>\n",
       "      <td>0</td>\n",
       "      <td>0</td>\n",
       "      <td>0</td>\n",
       "      <td>0</td>\n",
       "      <td>0</td>\n",
       "      <td>0</td>\n",
       "      <td>0</td>\n",
       "      <td>...</td>\n",
       "      <td>0</td>\n",
       "      <td>0</td>\n",
       "      <td>0</td>\n",
       "      <td>0</td>\n",
       "      <td>0</td>\n",
       "      <td>0</td>\n",
       "      <td>0</td>\n",
       "      <td>0</td>\n",
       "      <td>0</td>\n",
       "      <td>0</td>\n",
       "    </tr>\n",
       "    <tr>\n",
       "      <th>2</th>\n",
       "      <td>4</td>\n",
       "      <td>0</td>\n",
       "      <td>0</td>\n",
       "      <td>0</td>\n",
       "      <td>0</td>\n",
       "      <td>0</td>\n",
       "      <td>0</td>\n",
       "      <td>0</td>\n",
       "      <td>0</td>\n",
       "      <td>0</td>\n",
       "      <td>...</td>\n",
       "      <td>0</td>\n",
       "      <td>0</td>\n",
       "      <td>0</td>\n",
       "      <td>0</td>\n",
       "      <td>0</td>\n",
       "      <td>0</td>\n",
       "      <td>0</td>\n",
       "      <td>0</td>\n",
       "      <td>0</td>\n",
       "      <td>0</td>\n",
       "    </tr>\n",
       "    <tr>\n",
       "      <th>3</th>\n",
       "      <td>1</td>\n",
       "      <td>0</td>\n",
       "      <td>0</td>\n",
       "      <td>0</td>\n",
       "      <td>0</td>\n",
       "      <td>0</td>\n",
       "      <td>0</td>\n",
       "      <td>0</td>\n",
       "      <td>0</td>\n",
       "      <td>0</td>\n",
       "      <td>...</td>\n",
       "      <td>0</td>\n",
       "      <td>0</td>\n",
       "      <td>0</td>\n",
       "      <td>0</td>\n",
       "      <td>0</td>\n",
       "      <td>0</td>\n",
       "      <td>0</td>\n",
       "      <td>0</td>\n",
       "      <td>0</td>\n",
       "      <td>0</td>\n",
       "    </tr>\n",
       "    <tr>\n",
       "      <th>4</th>\n",
       "      <td>9</td>\n",
       "      <td>0</td>\n",
       "      <td>0</td>\n",
       "      <td>0</td>\n",
       "      <td>0</td>\n",
       "      <td>0</td>\n",
       "      <td>0</td>\n",
       "      <td>0</td>\n",
       "      <td>0</td>\n",
       "      <td>0</td>\n",
       "      <td>...</td>\n",
       "      <td>0</td>\n",
       "      <td>0</td>\n",
       "      <td>0</td>\n",
       "      <td>0</td>\n",
       "      <td>0</td>\n",
       "      <td>0</td>\n",
       "      <td>0</td>\n",
       "      <td>0</td>\n",
       "      <td>0</td>\n",
       "      <td>0</td>\n",
       "    </tr>\n",
       "    <tr>\n",
       "      <th>...</th>\n",
       "      <td>...</td>\n",
       "      <td>...</td>\n",
       "      <td>...</td>\n",
       "      <td>...</td>\n",
       "      <td>...</td>\n",
       "      <td>...</td>\n",
       "      <td>...</td>\n",
       "      <td>...</td>\n",
       "      <td>...</td>\n",
       "      <td>...</td>\n",
       "      <td>...</td>\n",
       "      <td>...</td>\n",
       "      <td>...</td>\n",
       "      <td>...</td>\n",
       "      <td>...</td>\n",
       "      <td>...</td>\n",
       "      <td>...</td>\n",
       "      <td>...</td>\n",
       "      <td>...</td>\n",
       "      <td>...</td>\n",
       "      <td>...</td>\n",
       "    </tr>\n",
       "    <tr>\n",
       "      <th>59995</th>\n",
       "      <td>8</td>\n",
       "      <td>0</td>\n",
       "      <td>0</td>\n",
       "      <td>0</td>\n",
       "      <td>0</td>\n",
       "      <td>0</td>\n",
       "      <td>0</td>\n",
       "      <td>0</td>\n",
       "      <td>0</td>\n",
       "      <td>0</td>\n",
       "      <td>...</td>\n",
       "      <td>0</td>\n",
       "      <td>0</td>\n",
       "      <td>0</td>\n",
       "      <td>0</td>\n",
       "      <td>0</td>\n",
       "      <td>0</td>\n",
       "      <td>0</td>\n",
       "      <td>0</td>\n",
       "      <td>0</td>\n",
       "      <td>0</td>\n",
       "    </tr>\n",
       "    <tr>\n",
       "      <th>59996</th>\n",
       "      <td>3</td>\n",
       "      <td>0</td>\n",
       "      <td>0</td>\n",
       "      <td>0</td>\n",
       "      <td>0</td>\n",
       "      <td>0</td>\n",
       "      <td>0</td>\n",
       "      <td>0</td>\n",
       "      <td>0</td>\n",
       "      <td>0</td>\n",
       "      <td>...</td>\n",
       "      <td>0</td>\n",
       "      <td>0</td>\n",
       "      <td>0</td>\n",
       "      <td>0</td>\n",
       "      <td>0</td>\n",
       "      <td>0</td>\n",
       "      <td>0</td>\n",
       "      <td>0</td>\n",
       "      <td>0</td>\n",
       "      <td>0</td>\n",
       "    </tr>\n",
       "    <tr>\n",
       "      <th>59997</th>\n",
       "      <td>5</td>\n",
       "      <td>0</td>\n",
       "      <td>0</td>\n",
       "      <td>0</td>\n",
       "      <td>0</td>\n",
       "      <td>0</td>\n",
       "      <td>0</td>\n",
       "      <td>0</td>\n",
       "      <td>0</td>\n",
       "      <td>0</td>\n",
       "      <td>...</td>\n",
       "      <td>0</td>\n",
       "      <td>0</td>\n",
       "      <td>0</td>\n",
       "      <td>0</td>\n",
       "      <td>0</td>\n",
       "      <td>0</td>\n",
       "      <td>0</td>\n",
       "      <td>0</td>\n",
       "      <td>0</td>\n",
       "      <td>0</td>\n",
       "    </tr>\n",
       "    <tr>\n",
       "      <th>59998</th>\n",
       "      <td>6</td>\n",
       "      <td>0</td>\n",
       "      <td>0</td>\n",
       "      <td>0</td>\n",
       "      <td>0</td>\n",
       "      <td>0</td>\n",
       "      <td>0</td>\n",
       "      <td>0</td>\n",
       "      <td>0</td>\n",
       "      <td>0</td>\n",
       "      <td>...</td>\n",
       "      <td>0</td>\n",
       "      <td>0</td>\n",
       "      <td>0</td>\n",
       "      <td>0</td>\n",
       "      <td>0</td>\n",
       "      <td>0</td>\n",
       "      <td>0</td>\n",
       "      <td>0</td>\n",
       "      <td>0</td>\n",
       "      <td>0</td>\n",
       "    </tr>\n",
       "    <tr>\n",
       "      <th>59999</th>\n",
       "      <td>8</td>\n",
       "      <td>0</td>\n",
       "      <td>0</td>\n",
       "      <td>0</td>\n",
       "      <td>0</td>\n",
       "      <td>0</td>\n",
       "      <td>0</td>\n",
       "      <td>0</td>\n",
       "      <td>0</td>\n",
       "      <td>0</td>\n",
       "      <td>...</td>\n",
       "      <td>0</td>\n",
       "      <td>0</td>\n",
       "      <td>0</td>\n",
       "      <td>0</td>\n",
       "      <td>0</td>\n",
       "      <td>0</td>\n",
       "      <td>0</td>\n",
       "      <td>0</td>\n",
       "      <td>0</td>\n",
       "      <td>0</td>\n",
       "    </tr>\n",
       "  </tbody>\n",
       "</table>\n",
       "<p>60000 rows × 785 columns</p>\n",
       "</div>"
      ],
      "text/plain": [
       "       label  1x1  1x2  1x3  1x4  1x5  1x6  1x7  1x8  1x9  ...  28x19  28x20  \\\n",
       "0          5    0    0    0    0    0    0    0    0    0  ...      0      0   \n",
       "1          0    0    0    0    0    0    0    0    0    0  ...      0      0   \n",
       "2          4    0    0    0    0    0    0    0    0    0  ...      0      0   \n",
       "3          1    0    0    0    0    0    0    0    0    0  ...      0      0   \n",
       "4          9    0    0    0    0    0    0    0    0    0  ...      0      0   \n",
       "...      ...  ...  ...  ...  ...  ...  ...  ...  ...  ...  ...    ...    ...   \n",
       "59995      8    0    0    0    0    0    0    0    0    0  ...      0      0   \n",
       "59996      3    0    0    0    0    0    0    0    0    0  ...      0      0   \n",
       "59997      5    0    0    0    0    0    0    0    0    0  ...      0      0   \n",
       "59998      6    0    0    0    0    0    0    0    0    0  ...      0      0   \n",
       "59999      8    0    0    0    0    0    0    0    0    0  ...      0      0   \n",
       "\n",
       "       28x21  28x22  28x23  28x24  28x25  28x26  28x27  28x28  \n",
       "0          0      0      0      0      0      0      0      0  \n",
       "1          0      0      0      0      0      0      0      0  \n",
       "2          0      0      0      0      0      0      0      0  \n",
       "3          0      0      0      0      0      0      0      0  \n",
       "4          0      0      0      0      0      0      0      0  \n",
       "...      ...    ...    ...    ...    ...    ...    ...    ...  \n",
       "59995      0      0      0      0      0      0      0      0  \n",
       "59996      0      0      0      0      0      0      0      0  \n",
       "59997      0      0      0      0      0      0      0      0  \n",
       "59998      0      0      0      0      0      0      0      0  \n",
       "59999      0      0      0      0      0      0      0      0  \n",
       "\n",
       "[60000 rows x 785 columns]"
      ]
     },
     "execution_count": 196,
     "metadata": {},
     "output_type": "execute_result"
    }
   ],
   "source": [
    "image_data_df = pd.read_csv(\"archive/mnist_train.csv\")\n",
    "image_data_df\n"
   ]
  },
  {
   "cell_type": "code",
   "execution_count": 197,
   "metadata": {},
   "outputs": [],
   "source": [
    "labels = [0, 1]\n",
    "image_data_all = image_data_df[image_data_df.label.isin(labels)].to_numpy()\n",
    "image_data = image_data_all[:, 1:].reshape((-1, 28, 28))\n",
    "label_data = image_data_all[:, 0].reshape(-1)\n"
   ]
  },
  {
   "cell_type": "markdown",
   "metadata": {},
   "source": [
    "## Demo"
   ]
  },
  {
   "cell_type": "code",
   "execution_count": 198,
   "metadata": {},
   "outputs": [
    {
     "data": {
      "text/plain": [
       "array([176,  96,  93,  68,  75, 198,  95, 139, 183, 200,  82, 234, 219,  94, ..., 195,  90, 150, 144, 156, 174,  88,  74,  97, 204,  76,  96, 197,  74], dtype=int64)"
      ]
     },
     "execution_count": 198,
     "metadata": {},
     "output_type": "execute_result"
    }
   ],
   "source": [
    "active_cell_count = image_data.clip(max=1, min=0).sum(axis=(1, 2))\n",
    "active_cell_count\n"
   ]
  },
  {
   "cell_type": "code",
   "execution_count": 199,
   "metadata": {},
   "outputs": [
    {
     "data": {
      "text/plain": [
       "<matplotlib.legend.Legend at 0x21a20b03a60>"
      ]
     },
     "execution_count": 199,
     "metadata": {},
     "output_type": "execute_result"
    },
    {
     "data": {
      "image/png": "[encoded data removed]",
      "text/plain": [
       "<Figure size 640x480 with 1 Axes>"
      ]
     },
     "metadata": {},
     "output_type": "display_data"
    }
   ],
   "source": [
    "plt.hist(active_cell_count[label_data == 0], alpha=0.7, color=\"red\", label=\"zero\")\n",
    "plt.hist(active_cell_count[label_data == 1], alpha=0.7, color=\"blue\", label=\"one\")\n",
    "plt.legend()\n"
   ]
  },
  {
   "cell_type": "code",
   "execution_count": 200,
   "metadata": {},
   "outputs": [
    {
     "data": {
      "text/plain": [
       "0.9698381365969206"
      ]
     },
     "execution_count": 200,
     "metadata": {},
     "output_type": "execute_result"
    }
   ],
   "source": [
    "predictions = np.where(image_data.clip(min=0, max=1).sum(axis=(1, 2)) < 125, 1, 0)\n",
    "acc = (predictions == label_data).mean()\n",
    "acc\n"
   ]
  },
  {
   "cell_type": "code",
   "execution_count": 201,
   "metadata": {},
   "outputs": [
    {
     "data": {
      "text/plain": [
       "dtype('int64')"
      ]
     },
     "execution_count": 201,
     "metadata": {},
     "output_type": "execute_result"
    }
   ],
   "source": [
    "label_data.dtype\n"
   ]
  },
  {
   "cell_type": "markdown",
   "metadata": {},
   "source": [
    "## Types"
   ]
  },
  {
   "cell_type": "code",
   "execution_count": 202,
   "metadata": {},
   "outputs": [],
   "source": [
    "class IModel:\n",
    "    def predict(self, X: np.ndarray, params: dict[str, np.ndarray] = None):\n",
    "        raise NotImplementedError()\n"
   ]
  },
  {
   "cell_type": "code",
   "execution_count": 203,
   "metadata": {},
   "outputs": [],
   "source": [
    "# (-1,28,28) -> (-1,1)\n",
    "TFeaturizer = T.Callable[[np.ndarray], np.ndarray]\n",
    "TEvaluate = T.Callable[[np.ndarray], np.ndarray]\n",
    "TPredictor = T.Callable[[np.ndarray], np.ndarray]\n"
   ]
  },
  {
   "cell_type": "markdown",
   "metadata": {},
   "source": [
    "## Visualizations"
   ]
  },
  {
   "cell_type": "code",
   "execution_count": 265,
   "metadata": {},
   "outputs": [],
   "source": [
    "def histogram_featurizer(\n",
    "    featurizer: TFeaturizer,\n",
    "    imgage_data: np.ndarray,\n",
    "    label_data: np.ndarray,\n",
    "    labels: T.List[int],\n",
    "    **kwargs,\n",
    "):\n",
    "    fig, ax = plt.subplots()\n",
    "    for label in labels:\n",
    "        bins = 20\n",
    "        alpha = 0.7\n",
    "        ax.hist(\n",
    "            featurizer(image_data[label_data == label]),\n",
    "            bins=bins,\n",
    "            alpha=alpha,\n",
    "            label=f\"label: {label}\",\n",
    "            **kwargs,\n",
    "        )\n",
    "    ax.legend()\n",
    "    return fig, ax\n"
   ]
  },
  {
   "cell_type": "markdown",
   "metadata": {},
   "source": [
    "## Model"
   ]
  },
  {
   "cell_type": "markdown",
   "metadata": {},
   "source": [
    "### Metrics"
   ]
  },
  {
   "cell_type": "code",
   "execution_count": 205,
   "metadata": {},
   "outputs": [],
   "source": [
    "def accuracy(predictor: TPredictor, X: np.ndarray, y: np.ndarray) -> np.float64:\n",
    "    return (predictor(X) == y).mean()\n"
   ]
  },
  {
   "cell_type": "markdown",
   "metadata": {},
   "source": [
    "### Features"
   ]
  },
  {
   "cell_type": "code",
   "execution_count": 217,
   "metadata": {},
   "outputs": [],
   "source": [
    "class KernelFeaturizer:\n",
    "    def __init__(self, kernel: np.ndarray = None, clip_min=0, clip_max=1):\n",
    "        \"\"\"kernel: (28,28)\"\"\"\n",
    "        self.clip_min = clip_min\n",
    "        self.clip_max = clip_max\n",
    "        self.kernel = kernel\n",
    "\n",
    "    def get_kernel(self) -> np.ndarray:\n",
    "        return self.kernel\n",
    "    \n",
    "    def __call__(self, image_data: np.ndarray, params: dict[str, np.ndarray] = None) -> np.ndarray:\n",
    "        \"\"\"(-1,28,28) -> (-1,1)\"\"\"\n",
    "        kernel = (params or {}).get('kernel', None) or self.kernel\n",
    "        return (image_data.clip(min=self.clip_min, max=self.clip_max)*kernel.reshape(1,28,28)).sum(axis=(1,2))\n"
   ]
  },
  {
   "cell_type": "code",
   "execution_count": 261,
   "metadata": {},
   "outputs": [],
   "source": [
    "class LinearKernelFeaturizer(KernelFeaturizer):\n",
    "    def __init__(self, basis: np.ndarray, coefficients: np.ndarray = None, **kwargs):\n",
    "        super().__init__(**kwargs)\n",
    "        self.basis = basis\n",
    "        self.coefficients = coefficients if coefficients is not None else np.zeros(basis.shape[0])\n",
    "    \n",
    "    def get_kernel(self, params: dict[str, np.ndarray] = None) -> np.ndarray:\n",
    "        coefficients = (params or {}).get('coefficients', self.coefficients)\n",
    "        return (coefficients.reshape((-1,1,1))*self.basis).sum(axis=0)\n",
    "    \n",
    "    def __call__(self, image_data: np.ndarray, params: dict[str, np.ndarray] = None) -> np.ndarray:\n",
    "        \"\"\"(-1,28,28) -> (-1,1)\"\"\"\n",
    "        kernel = (params or {}).get('kernel', self.get_kernel(params))\n",
    "        return (image_data.clip(min=self.clip_min, max=self.clip_max)*kernel.reshape(1,28,28)).sum(axis=(1,2))"
   ]
  },
  {
   "cell_type": "code",
   "execution_count": 257,
   "metadata": {},
   "outputs": [
    {
     "data": {
      "text/plain": [
       "(<Figure size 640x480 with 1 Axes>, <AxesSubplot: >)"
      ]
     },
     "execution_count": 257,
     "metadata": {},
     "output_type": "execute_result"
    },
    {
     "data": {
      "image/png": "[encoded data removed]",
      "text/plain": [
       "<Figure size 640x480 with 1 Axes>"
      ]
     },
     "metadata": {},
     "output_type": "display_data"
    }
   ],
   "source": [
    "total_active_cells_feature = KernelFeaturizer(np.ones((28,28)))\n",
    "\n",
    "histogram_featurizer(\n",
    "    total_active_cells_feature, imgage_data=image_data, label_data=label_data, labels=labels\n",
    ")"
   ]
  },
  {
   "cell_type": "code",
   "execution_count": 298,
   "metadata": {},
   "outputs": [
    {
     "data": {
      "text/plain": [
       "(<Figure size 640x480 with 1 Axes>, <AxesSubplot: >)"
      ]
     },
     "execution_count": 298,
     "metadata": {},
     "output_type": "execute_result"
    },
    {
     "data": {
      "image/png": "[encoded data removed]",
      "text/plain": [
       "<Figure size 640x480 with 1 Axes>"
      ]
     },
     "metadata": {},
     "output_type": "display_data"
    }
   ],
   "source": [
    "lk_featurizer = LinearKernelFeaturizer(get_basis(), np.array([1,1,0,1, 0,0,0,1]))\n",
    "\n",
    "histogram_featurizer(\n",
    "    lk_featurizer, imgage_data=image_data, label_data=label_data, labels=labels\n",
    ")"
   ]
  },
  {
   "cell_type": "markdown",
   "metadata": {},
   "source": [
    "### Feature Selection"
   ]
  },
  {
   "cell_type": "code",
   "execution_count": 282,
   "metadata": {},
   "outputs": [
    {
     "data": {
      "text/plain": [
       "0.04943531530436773"
      ]
     },
     "execution_count": 282,
     "metadata": {},
     "output_type": "execute_result"
    }
   ],
   "source": [
    "def expected_difference(\n",
    "    featurizer: TFeaturizer,\n",
    "    X1: np.ndarray,\n",
    "    X2: np.ndarray,\n",
    "    **kwargs,\n",
    ") -> np.float64:\n",
    "    f1 = featurizer(X1, **kwargs)\n",
    "    f2 = featurizer(X2, **kwargs)\n",
    "    alpha = 20\n",
    "    return np.abs(f1.mean() - f2.mean()) / ((alpha + f1.std()) * (alpha + f2.std()))\n",
    "\n",
    "\n",
    "expected_difference(\n",
    "    total_active_cells_feature, image_data[label_data == 0], image_data[label_data == 1]\n",
    ")\n"
   ]
  },
  {
   "cell_type": "code",
   "execution_count": 283,
   "metadata": {},
   "outputs": [],
   "source": [
    "class LinearKernelFeaturizerScorer:\n",
    "    def __init__(\n",
    "        self,\n",
    "        linear_kernel_featurizer: LinearKernelFeaturizer,\n",
    "        image_data=image_data,\n",
    "        label_data=label_data,\n",
    "        labels: T.List[int] = labels,\n",
    "    ):\n",
    "        self.linear_kernel_featurizer = linear_kernel_featurizer\n",
    "        self.image_data = image_data\n",
    "        self.label_data = label_data\n",
    "        self.labels = labels\n",
    "        self.l0_data = self.image_data[self.label_data == self.labels[0]]\n",
    "        self.l1_data = self.image_data[self.label_data == self.labels[1]]\n",
    "\n",
    "    def __call__(self, coefficients: np.ndarray) -> float:\n",
    "        delta = expected_difference(\n",
    "            self.linear_kernel_featurizer,\n",
    "            self.l0_data,\n",
    "            self.l1_data,\n",
    "            params={\"coefficients\": coefficients},\n",
    "        )\n",
    "        return delta\n"
   ]
  },
  {
   "cell_type": "code",
   "execution_count": 284,
   "metadata": {},
   "outputs": [
    {
     "data": {
      "text/plain": [
       "(8, 28, 28)"
      ]
     },
     "execution_count": 284,
     "metadata": {},
     "output_type": "execute_result"
    }
   ],
   "source": [
    "def get_basis() -> np.ndarray:\n",
    "    z = np.zeros((28,7))\n",
    "    o = np.ones((28,7))\n",
    "    return np.stack([\n",
    "        np.hstack([o,z,z,z]),\n",
    "        np.hstack([z,o,z,z]),\n",
    "        np.hstack([z,z,o,z]),\n",
    "        np.hstack([z,z,z,o]),\n",
    "        np.hstack([o,z,z,z]).T,\n",
    "        np.hstack([z,o,z,z]).T,\n",
    "        np.hstack([z,z,o,z]).T,\n",
    "        np.hstack([z,z,z,o]).T,\n",
    "    ])\n",
    "\n",
    "get_basis().shape"
   ]
  },
  {
   "cell_type": "markdown",
   "metadata": {},
   "source": [
    "### Training"
   ]
  },
  {
   "cell_type": "code",
   "execution_count": 285,
   "metadata": {},
   "outputs": [],
   "source": [
    "from itertools import product\n",
    "\n",
    "TMin = TMax = float\n",
    "TCount = int\n",
    "TParamName = str\n",
    "\n",
    "\n",
    "def grid_search(f: TEvaluate, param_spec: T.Dict[TParamName, T.Tuple[TMin, TMax, TCount]]):\n",
    "    _key_order = tuple(param_spec.keys())\n",
    "    grid = np.array(list(product(*[np.linspace(*param_spec[_key]) for _key in _key_order])))\n",
    "    flat_grid = grid.reshape(-1, len(_key_order))\n",
    "    evaluation_results = np.apply_along_axis(f, 1, flat_grid)\n",
    "    results = np.hstack(\n",
    "        [flat_grid.reshape((-1, len(_key_order))), evaluation_results.reshape((-1, 1))]\n",
    "    )\n",
    "    return np.flip(results[np.argsort(results[:,-1])], axis=0)\n",
    "\n"
   ]
  },
  {
   "cell_type": "code",
   "execution_count": 286,
   "metadata": {},
   "outputs": [
    {
     "data": {
      "text/plain": [
       "array([[  0.000,   0.000,   0.000,   1.000,   1.000,   1.000,   0.000,   1.000,   0.051],\n",
       "       [  0.000,   0.000,   0.000,   1.000,   0.000,   0.000,   1.000,   1.000,   0.051],\n",
       "       [  1.000,   1.000,   0.000,   1.000,   0.000,   0.000,   0.000,   1.000,   0.051],\n",
       "       [  0.000,   0.000,   0.000,   1.000,   1.000,   1.000,   0.000,   0.000,   0.051],\n",
       "       [  0.000,   0.000,   0.000,   1.000,   0.000,   1.000,   0.000,   1.000,   0.051],\n",
       "       [  1.000,   1.000,   0.000,   1.000,   0.000,   0.000,   0.000,   0.000,   0.050],\n",
       "       [  0.000,   0.000,   0.000,   1.000,   1.000,   0.000,   1.000,   1.000,   0.050],\n",
       "       [  0.000,   1.000,   0.000,   1.000,   0.000,   0.000,   0.000,   1.000,   0.050],\n",
       "       [  0.000,   1.000,   0.000,   1.000,   0.000,   1.000,   0.000,   0.000,   0.050],\n",
       "       [  1.000,   0.000,   0.000,   1.000,   1.000,   1.000,   0.000,   1.000,   0.050],\n",
       "       [  1.000,   1.000,   0.000,   1.000,   1.000,   0.000,   0.000,   0.000,   0.050],\n",
       "       [  0.000,   1.000,   0.000,   1.000,   1.000,   1.000,   0.000,   0.000,   0.050],\n",
       "       [  1.000,   1.000,   0.000,   1.000,   1.000,   0.000,   0.000,   1.000,   0.050],\n",
       "       [  1.000,   1.000,   0.000,   0.000,   1.000,   1.000,   0.000,   0.000,   0.050],\n",
       "       ...,\n",
       "       [  1.000,   0.000,   1.000,   0.000,   1.000,   0.000,   0.000,   0.000,   0.035],\n",
       "       [  1.000,   0.000,   0.000,   0.000,   0.000,   0.000,   0.000,   1.000,   0.034],\n",
       "       [  0.000,   0.000,   1.000,   0.000,   1.000,   0.000,   0.000,   1.000,   0.034],\n",
       "       [  1.000,   0.000,   1.000,   0.000,   0.000,   0.000,   0.000,   0.000,   0.032],\n",
       "       [  0.000,   0.000,   1.000,   0.000,   0.000,   0.000,   0.000,   1.000,   0.032],\n",
       "       [  0.000,   0.000,   0.000,   1.000,   0.000,   0.000,   0.000,   0.000,   0.031],\n",
       "       [  0.000,   0.000,   0.000,   0.000,   1.000,   0.000,   0.000,   1.000,   0.030],\n",
       "       [  1.000,   0.000,   0.000,   0.000,   1.000,   0.000,   0.000,   0.000,   0.028],\n",
       "       [  0.000,   0.000,   1.000,   0.000,   1.000,   0.000,   0.000,   0.000,   0.028],\n",
       "       [  0.000,   0.000,   0.000,   0.000,   0.000,   0.000,   0.000,   1.000,   0.024],\n",
       "       [  0.000,   0.000,   1.000,   0.000,   0.000,   0.000,   0.000,   0.000,   0.024],\n",
       "       [  1.000,   0.000,   0.000,   0.000,   0.000,   0.000,   0.000,   0.000,   0.019],\n",
       "       [  0.000,   0.000,   0.000,   0.000,   1.000,   0.000,   0.000,   0.000,   0.014],\n",
       "       [  0.000,   0.000,   0.000,   0.000,   0.000,   0.000,   0.000,   0.000,   0.000]])"
      ]
     },
     "execution_count": 286,
     "metadata": {},
     "output_type": "execute_result"
    }
   ],
   "source": [
    "linear_kernel_featurizer = LinearKernelFeaturizer(get_basis(), coefficients=np.ones(8))\n",
    "kernel_featurizer_scorer = LinearKernelFeaturizerScorer(linear_kernel_featurizer)\n",
    "# kernel_featurizer_scorer(np.ones(8)*0)\n",
    "kernel_search_results = grid_search(kernel_featurizer_scorer, param_spec={\n",
    "    f'{coefficient_i}': (0,1,2) for coefficient_i in range(linear_kernel_featurizer.basis.shape[0])\n",
    "})\n",
    "\n",
    "kernel_search_results"
   ]
  },
  {
   "cell_type": "code",
   "execution_count": 287,
   "metadata": {},
   "outputs": [
    {
     "data": {
      "text/plain": [
       "array([[  3.000,   3.000,   9.000],\n",
       "       [  3.000,   2.000,   6.000],\n",
       "       [  2.000,   3.000,   6.000],\n",
       "       [  2.000,   2.000,   4.000],\n",
       "       [  3.000,   1.000,   3.000],\n",
       "       [  1.000,   3.000,   3.000],\n",
       "       [  2.000,   1.000,   2.000],\n",
       "       [  1.000,   2.000,   2.000],\n",
       "       [  1.000,   1.000,   1.000],\n",
       "       [  3.000,   0.000,   0.000],\n",
       "       [  2.000,   0.000,   0.000],\n",
       "       [  1.000,   0.000,   0.000],\n",
       "       [  0.000,   3.000,   0.000],\n",
       "       [  0.000,   2.000,   0.000],\n",
       "       [  0.000,   1.000,   0.000],\n",
       "       [  0.000,   0.000,   0.000]])"
      ]
     },
     "execution_count": 287,
     "metadata": {},
     "output_type": "execute_result"
    }
   ],
   "source": [
    "grid_search(lambda x: x[0] * x[1], {\"x\": (0, 3, 4), \"y\": (0, 3, 4)})\n"
   ]
  },
  {
   "cell_type": "markdown",
   "metadata": {},
   "source": [
    "### Models"
   ]
  },
  {
   "cell_type": "code",
   "execution_count": 288,
   "metadata": {},
   "outputs": [],
   "source": [
    "class MyFirstBinaryClassifier(IModel):\n",
    "    def __init__(\n",
    "        self,\n",
    "        featurizer: TFeaturizer,\n",
    "        threshold: float,\n",
    "        label_left: int,\n",
    "        label_right: int,\n",
    "    ):\n",
    "        self.featurizer = featurizer\n",
    "        self.threshold = threshold\n",
    "        self.label_left = label_left\n",
    "        self.label_right = label_right\n",
    "\n",
    "    def predict(self, X: np.ndarray, params: dict[str, np.ndarray] = None) -> np.ndarray:\n",
    "        \"\"\"(-1,28,28) -> (-1,1)\"\"\"\n",
    "        threshold = (params or {}).get(\"threshold\", None) or self.threshold\n",
    "        return np.where(self.featurizer(X) < threshold, self.label_left, self.label_right)\n"
   ]
  },
  {
   "cell_type": "code",
   "execution_count": 295,
   "metadata": {},
   "outputs": [
    {
     "data": {
      "text/plain": [
       "(0.9698381365969206,\n",
       " array([[132.000,   0.972],\n",
       "        [131.882,   0.972],\n",
       "        [131.765,   0.972],\n",
       "        [131.647,   0.972],\n",
       "        [131.529,   0.972],\n",
       "        [131.412,   0.972],\n",
       "        [131.294,   0.972],\n",
       "        [131.176,   0.972],\n",
       "        [131.059,   0.972],\n",
       "        [129.176,   0.972],\n",
       "        [129.294,   0.972],\n",
       "        [130.000,   0.972],\n",
       "        [129.882,   0.972],\n",
       "        [129.765,   0.972],\n",
       "        [129.647,   0.972],\n",
       "        [129.529,   0.972],\n",
       "        [129.412,   0.972],\n",
       "        [129.059,   0.972],\n",
       "        [130.471,   0.972],\n",
       "        [130.353,   0.972]]))"
      ]
     },
     "execution_count": 295,
     "metadata": {},
     "output_type": "execute_result"
    }
   ],
   "source": [
    "model = MyFirstBinaryClassifier(\n",
    "    featurizer=total_active_cells_feature,\n",
    "    threshold=125,\n",
    "    label_left=labels[1],\n",
    "    label_right=labels[0],\n",
    ")\n",
    "\n",
    "# predictions = model.predict(image_data)\n",
    "# accuracy(model.predict, image_data, label_data)\n",
    "\n",
    "\n",
    "def evaluate_model(parmas: np.ndarray) -> np.float64:\n",
    "    def _predict(image_data: np.ndarray) -> np.ndarray:\n",
    "        return model.predict(image_data, params={'threshold': parmas})\n",
    "    return accuracy(_predict, image_data, label_data)\n",
    "\n",
    "initial_result = evaluate_model(np.array([125.]))\n",
    "search_results = grid_search(evaluate_model, {'threshold': (110,140,256)})\n",
    "initial_result, search_results[:20]\n"
   ]
  },
  {
   "cell_type": "code",
   "execution_count": 302,
   "metadata": {},
   "outputs": [
    {
     "data": {
      "text/plain": [
       "array([[ 86.667,   0.973],\n",
       "       [ 86.039,   0.973],\n",
       "       [ 86.196,   0.973],\n",
       "       [ 86.353,   0.973],\n",
       "       [ 86.510,   0.973],\n",
       "       [ 86.824,   0.973],\n",
       "       [ 86.980,   0.973],\n",
       "       [ 87.137,   0.973],\n",
       "       [ 87.922,   0.973],\n",
       "       [ 87.765,   0.973],\n",
       "       [ 87.451,   0.973],\n",
       "       [ 87.294,   0.973],\n",
       "       [ 87.608,   0.973],\n",
       "       [ 89.020,   0.972],\n",
       "       [ 89.490,   0.972],\n",
       "       [ 89.333,   0.972],\n",
       "       [ 89.647,   0.972],\n",
       "       [ 89.804,   0.972],\n",
       "       [ 89.176,   0.972],\n",
       "       [ 89.961,   0.972]])"
      ]
     },
     "execution_count": 302,
     "metadata": {},
     "output_type": "execute_result"
    }
   ],
   "source": [
    "_min = 60\n",
    "_max = 100\n",
    "\n",
    "model = MyFirstBinaryClassifier(\n",
    "    featurizer=lk_featurizer,\n",
    "    threshold=_min,\n",
    "    label_left=labels[1],\n",
    "    label_right=labels[0],\n",
    ")\n",
    "\n",
    "# predictions = model.predict(image_data)\n",
    "# accuracy(model.predict, image_data, label_data)\n",
    "\n",
    "\n",
    "def evaluate_model(parmas: np.ndarray) -> np.float64:\n",
    "    def _predict(image_data: np.ndarray) -> np.ndarray:\n",
    "        return model.predict(image_data, params={'threshold': parmas})\n",
    "    return accuracy(_predict, image_data, label_data)\n",
    "\n",
    "search_results = grid_search(evaluate_model, {'threshold': (_min,_max,256)})\n",
    "search_results[:20]\n"
   ]
  },
  {
   "cell_type": "code",
   "execution_count": 291,
   "metadata": {},
   "outputs": [
    {
     "data": {
      "text/plain": [
       "(0.5323332017370707,\n",
       " array([[120.000,   0.532],\n",
       "        [119.843,   0.532],\n",
       "        [ 94.588,   0.532],\n",
       "        [ 94.431,   0.532],\n",
       "        [ 94.275,   0.532],\n",
       "        [ 94.118,   0.532],\n",
       "        [ 93.961,   0.532],\n",
       "        [ 93.804,   0.532],\n",
       "        [ 93.647,   0.532],\n",
       "        [ 93.490,   0.532],\n",
       "        [ 93.333,   0.532],\n",
       "        [ 93.176,   0.532],\n",
       "        [ 93.020,   0.532],\n",
       "        [ 92.863,   0.532],\n",
       "        [ 92.706,   0.532],\n",
       "        [ 92.549,   0.532],\n",
       "        [ 92.392,   0.532],\n",
       "        [ 92.235,   0.532],\n",
       "        [ 92.078,   0.532],\n",
       "        [ 91.922,   0.532]]))"
      ]
     },
     "execution_count": 291,
     "metadata": {},
     "output_type": "execute_result"
    }
   ],
   "source": [
    "initial_result, search_results[:20]"
   ]
  },
  {
   "cell_type": "code",
   "execution_count": 303,
   "metadata": {},
   "outputs": [
    {
     "data": {
      "text/plain": [
       "<matplotlib.collections.PathCollection at 0x21a28e5b130>"
      ]
     },
     "execution_count": 303,
     "metadata": {},
     "output_type": "execute_result"
    },
    {
     "data": {
      "image/png": "[encoded data removed]",
      "text/plain": [
       "<Figure size 640x480 with 1 Axes>"
      ]
     },
     "metadata": {},
     "output_type": "display_data"
    }
   ],
   "source": [
    "plt.scatter(search_results[:,0], search_results[:,1])"
   ]
  }
 ],
 "metadata": {
  "kernelspec": {
   "display_name": "Python 3.10.6 ('matos_ml_tutorial': venv)",
   "language": "python",
   "name": "python3"
  },
  "language_info": {
   "codemirror_mode": {
    "name": "ipython",
    "version": 3
   },
   "file_extension": ".py",
   "mimetype": "text/x-python",
   "name": "python",
   "nbconvert_exporter": "python",
   "pygments_lexer": "ipython3",
   "version": "3.10.6"
  },
  "orig_nbformat": 4,
  "vscode": {
   "interpreter": {
    "hash": "09367e6f380e736a42078fff035bc6587526227d6100de6d7f738dcf1a0405ad"
   }
  }
 },
 "nbformat": 4,
 "nbformat_minor": 2
}
